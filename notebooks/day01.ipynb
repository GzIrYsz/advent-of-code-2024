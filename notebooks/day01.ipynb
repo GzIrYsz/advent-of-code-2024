{
 "cells": [
  {
   "metadata": {},
   "cell_type": "markdown",
   "source": "# Day 1: Historian Hysteria",
   "id": "9b1afc27c8c73d58"
  },
  {
   "metadata": {
    "ExecuteTime": {
     "end_time": "2024-12-05T10:20:03.910780Z",
     "start_time": "2024-12-05T10:20:03.905325Z"
    }
   },
   "cell_type": "code",
   "source": [
    "import bisect\n",
    "import os\n",
    "\n",
    "import aoc.utils as utils"
   ],
   "id": "15572b7be03557d7",
   "outputs": [],
   "execution_count": 5
  },
  {
   "metadata": {
    "ExecuteTime": {
     "end_time": "2024-12-05T10:20:04.950791Z",
     "start_time": "2024-12-05T10:20:04.945964Z"
    }
   },
   "cell_type": "code",
   "source": [
    "DATA_DIR = \"../data\"\n",
    "FILE_NAME = \"day01.txt\"\n",
    "\n",
    "RAW_DATA = utils.load_data(os.path.join(DATA_DIR, FILE_NAME))"
   ],
   "id": "5203180698ec16cc",
   "outputs": [],
   "execution_count": 6
  },
  {
   "metadata": {},
   "cell_type": "markdown",
   "source": [
    "## Part 1\n",
    "\n",
    "You haven't even left yet and the group of Elvish Senior Historians has already hit a problem: their list of locations to check is currently **empty**. Eventually, someone decides that the best place to check first would be the Chief Historian's office.\n",
    "\n",
    "Upon pouring into the office, everyone confirms that the Chief Historian is indeed nowhere to be found. Instead, the Elves discover an assortment of notes and lists of historically significant locations! This seems to be the planning the Chief Historian was doing before he left. Perhaps these notes can be used to determine which locations to search?\n",
    "\n",
    "Throughout the Chief's office, the historically significant locations are listed not by name but by a unique number called the **location ID**. To make sure they don't miss anything, The Historians split into two groups, each searching the office and trying to create their own complete list of location IDs.\n",
    "\n",
    "There's just one problem: by holding the two lists up **side by side** (your puzzle input), it quickly becomes clear that the lists aren't very similar. Maybe you can help The Historians reconcile their lists?\n",
    "\n",
    "For example:\n",
    "\n",
    "```\n",
    "3   4\n",
    "4   3\n",
    "2   5\n",
    "1   3\n",
    "3   9\n",
    "3   3\n",
    "```\n",
    "\n",
    "Maybe the lists are only off by a small amount! To find out, pair up the numbers and measure how far apart they are. Pair up the **smallest number in the left list** with the **smallest number in the right list**, then the **second-smallest left number** with the **second-smallest right number**, and so on.\n",
    "\n",
    "Within each pair, figure out **how far apart** the two numbers are; you'll need to **add up all of those distances**. For example, if you pair up a `3` from the left list with a `7` from the right list, the distance apart is `4`; if you pair up a `9` with a `3`, the distance apart is `6`.\n",
    "\n",
    "In the example list above, the pairs and distances would be as follows:\n",
    "\n",
    "- The smallest number in the left list is `1`, and the smallest number in the right list is `3`. The distance between them is **`2`**.\n",
    "- The second-smallest number in the left list is `2`, and the second-smallest number in the right list is another `3`. The distance between them is **`1`**.\n",
    "- The third-smallest number in both lists is 3, so the distance between them is **`0`**.\n",
    "- The next numbers to pair up are `3` and `4`, a distance of **`1`**.\n",
    "- The fifth-smallest numbers in each list are `3` and `5`, a distance of **`2`**.\n",
    "- Finally, the largest number in the left list is `4`, while the largest number in the right list is `9`; these are a distance **`5`** apart.\n",
    "\n",
    "To find the **total distance** between the left list and the right list, add up the distances between all of the pairs you found. In the example above, this is `2 + 1 + 0 + 1 + 2 + 5`, a total distance of **`11`**!\n",
    "\n",
    "Your actual left and right lists contain many location IDs. **What is the total distance between your lists?**"
   ],
   "id": "1e40aa51a5d33123"
  },
  {
   "metadata": {
    "ExecuteTime": {
     "end_time": "2024-12-05T10:20:07.399631Z",
     "start_time": "2024-12-05T10:20:07.395333Z"
    }
   },
   "cell_type": "code",
   "source": [
    "DATA_L = []\n",
    "DATA_R = []\n",
    "for line in RAW_DATA:\n",
    "    l, r = line.strip().split(\"   \")\n",
    "    bisect.insort(DATA_L, int(l))\n",
    "    bisect.insort(DATA_R, int(r))"
   ],
   "id": "32eda0d538db3004",
   "outputs": [],
   "execution_count": 7
  },
  {
   "metadata": {
    "ExecuteTime": {
     "end_time": "2024-12-05T10:20:08.193681Z",
     "start_time": "2024-12-05T10:20:08.189856Z"
    }
   },
   "cell_type": "code",
   "source": "DATA_L[0:5], DATA_R[0:5]",
   "id": "8bcd0b7ae33a2f1d",
   "outputs": [
    {
     "data": {
      "text/plain": [
       "([10029, 10060, 10113, 10126, 10147], [10138, 10152, 10331, 10409, 10695])"
      ]
     },
     "execution_count": 8,
     "metadata": {},
     "output_type": "execute_result"
    }
   ],
   "execution_count": 8
  },
  {
   "metadata": {
    "ExecuteTime": {
     "end_time": "2024-12-05T10:21:30.264369Z",
     "start_time": "2024-12-05T10:21:30.255629Z"
    }
   },
   "cell_type": "code",
   "source": [
    "part_1 = 0\n",
    "for i1, i2 in zip(DATA_L, DATA_R):\n",
    "    part_1 += abs(i1 - i2)"
   ],
   "id": "e63030913d86bc92",
   "outputs": [],
   "execution_count": 9
  },
  {
   "metadata": {
    "ExecuteTime": {
     "end_time": "2024-12-05T10:21:32.195891Z",
     "start_time": "2024-12-05T10:21:32.191153Z"
    }
   },
   "cell_type": "code",
   "source": "part_1",
   "id": "7e1d14cde1f73f3f",
   "outputs": [
    {
     "data": {
      "text/plain": [
       "2192892"
      ]
     },
     "execution_count": 10,
     "metadata": {},
     "output_type": "execute_result"
    }
   ],
   "execution_count": 10
  },
  {
   "metadata": {},
   "cell_type": "markdown",
   "source": [
    "## Part 2\n",
    "\n",
    "Your analysis only confirmed what everyone feared: the two lists of location IDs are indeed very different.\n",
    "\n",
    "Or are they?\n",
    "\n",
    "The Historians can't agree on which group made the mistakes **or** how to read most of the Chief's handwriting, but in the commotion you notice an interesting detail: a lot of location IDs appear in both lists! Maybe the other numbers aren't location IDs at all but rather misinterpreted handwriting.\n",
    "\n",
    "This time, you'll need to figure out exactly how often each number from the left list appears in the right list. Calculate a total **similarity score** by adding up each number in the left list after multiplying it by the number of times that number appears in the right list.\n",
    "\n",
    "Here are the same example lists again:\n",
    "\n",
    "```\n",
    "3   4\n",
    "4   3\n",
    "2   5\n",
    "1   3\n",
    "3   9\n",
    "3   3\n",
    "```\n",
    "\n",
    "For these example lists, here is the process of finding the similarity score:\n",
    "\n",
    "- The first number in the left list is `3`. It appears in the right list three times, so the similarity score increases by `3 * 3 =` **`9`**.\n",
    "- The second number in the left list is `4`. It appears in the right list once, so the similarity score increases by `4 * 1 =` **`4`**.\n",
    "- The third number in the left list is `2`. It does not appear in the right list, so the similarity score does not increase (`2 * 0 = 0`).\n",
    "- The fourth number, `1`, also does not appear in the right list.\n",
    "- The fifth number, `3`, appears in the right list three times; the similarity score increases by **`9`**.\n",
    "- The last number, `3`, appears in the right list three times; the similarity score again increases by **`9`**.\n",
    "\n",
    "So, for these example lists, the similarity score at the end of this process is **`31`** (`9 + 4 + 0 + 0 + 9 + 9`).\n",
    "\n",
    "Once again consider your left and right lists. **What is their similarity score?**"
   ],
   "id": "8ad6b83ca042a2d1"
  },
  {
   "metadata": {
    "ExecuteTime": {
     "end_time": "2024-12-05T10:33:33.443240Z",
     "start_time": "2024-12-05T10:33:33.401616Z"
    }
   },
   "cell_type": "code",
   "source": [
    "part_2 = 0\n",
    "memory = {}\n",
    "for l in DATA_L:\n",
    "    if l not in memory:\n",
    "        num_appearances = 0\n",
    "        for r in DATA_R:\n",
    "            if l == r:\n",
    "                num_appearances += 1\n",
    "        memory[l] = num_appearances\n",
    "    part_2 += l * memory[l]"
   ],
   "id": "43a3b4bdd7e15338",
   "outputs": [],
   "execution_count": 11
  },
  {
   "metadata": {
    "ExecuteTime": {
     "end_time": "2024-12-05T10:33:37.447612Z",
     "start_time": "2024-12-05T10:33:37.444042Z"
    }
   },
   "cell_type": "code",
   "source": "part_2",
   "id": "e4ac2412e7f3768b",
   "outputs": [
    {
     "data": {
      "text/plain": [
       "22962826"
      ]
     },
     "execution_count": 12,
     "metadata": {},
     "output_type": "execute_result"
    }
   ],
   "execution_count": 12
  }
 ],
 "metadata": {
  "kernelspec": {
   "display_name": "Python 3",
   "language": "python",
   "name": "python3"
  },
  "language_info": {
   "codemirror_mode": {
    "name": "ipython",
    "version": 2
   },
   "file_extension": ".py",
   "mimetype": "text/x-python",
   "name": "python",
   "nbconvert_exporter": "python",
   "pygments_lexer": "ipython2",
   "version": "2.7.6"
  }
 },
 "nbformat": 4,
 "nbformat_minor": 5
}
